{
  "nbformat": 4,
  "nbformat_minor": 0,
  "metadata": {
    "colab": {
      "name": "Python Word-Excel.ipynb",
      "provenance": [],
      "collapsed_sections": [],
      "mount_file_id": "1GS9cUDKcnG_cgE45rnL3Defh-GUc_GGA",
      "authorship_tag": "ABX9TyP3GL4gR5Y1WU8QA8TnTMMM",
      "include_colab_link": true
    },
    "kernelspec": {
      "name": "python3",
      "display_name": "Python 3"
    }
  },
  "cells": [
    {
      "cell_type": "markdown",
      "metadata": {
        "id": "view-in-github",
        "colab_type": "text"
      },
      "source": [
        "<a href=\"https://colab.research.google.com/github/GaikwadChinmay/python-word-excel/blob/main/Python_Word_Excel.ipynb\" target=\"_parent\"><img src=\"https://colab.research.google.com/assets/colab-badge.svg\" alt=\"Open In Colab\"/></a>"
      ]
    },
    {
      "cell_type": "code",
      "metadata": {
        "colab": {
          "base_uri": "https://localhost:8080/"
        },
        "id": "DfXLNWTVUQg-",
        "outputId": "bc04c606-3bef-4947-d41d-a6f99d1b8929"
      },
      "source": [
        "!pip install python-docx\r\n",
        "!pip install openpyxl\r\n",
        "print('\\n\\n- - - Installation of depenecies completed - - -')"
      ],
      "execution_count": 1,
      "outputs": [
        {
          "output_type": "stream",
          "text": [
            "Requirement already satisfied: python-docx in /usr/local/lib/python3.7/dist-packages (0.8.10)\n",
            "Requirement already satisfied: lxml>=2.3.2 in /usr/local/lib/python3.7/dist-packages (from python-docx) (4.2.6)\n",
            "Requirement already satisfied: openpyxl in /usr/local/lib/python3.7/dist-packages (2.5.9)\n",
            "Requirement already satisfied: et-xmlfile in /usr/local/lib/python3.7/dist-packages (from openpyxl) (1.0.1)\n",
            "Requirement already satisfied: jdcal in /usr/local/lib/python3.7/dist-packages (from openpyxl) (1.4.1)\n",
            "\n",
            "\n",
            "- - - Installation of depenecies completed - - -\n"
          ],
          "name": "stdout"
        }
      ]
    },
    {
      "cell_type": "code",
      "metadata": {
        "id": "v-rnfmaLif_1",
        "colab": {
          "base_uri": "https://localhost:8080/"
        },
        "outputId": "8fe5786e-a396-48cd-9ba1-2f511a4cfff4"
      },
      "source": [
        "from openpyxl import load_workbook\r\n",
        "workbook = load_workbook(filename=\"/content/TCs.xlsx\")\r\n",
        "\r\n",
        "print('\\n\\n - - - Test Cases Document imported - - -')\r\n",
        "sheet = workbook.active"
      ],
      "execution_count": 2,
      "outputs": [
        {
          "output_type": "stream",
          "text": [
            "\n",
            "\n",
            " - - - Test Cases Document imported - - -\n"
          ],
          "name": "stdout"
        }
      ]
    },
    {
      "cell_type": "code",
      "metadata": {
        "id": "BGUsJ5I07pgD"
      },
      "source": [
        "from docx import Document"
      ],
      "execution_count": 3,
      "outputs": []
    },
    {
      "cell_type": "code",
      "metadata": {
        "id": "v861eqV97s0I",
        "colab": {
          "base_uri": "https://localhost:8080/"
        },
        "outputId": "44a73ca1-193f-40f3-f591-6638ca058518"
      },
      "source": [
        "document = Document()\r\n",
        "document.add_heading('Test Case Execution Document', 0)\r\n",
        "p = document.add_paragraph(' ')\r\n",
        "for row in sheet.rows:\r\n",
        "    p.add_run(row[0].value  + \"\\n\\nExpected Output\" +\" : \" +row[3].value + \"  \" + \"\\n\\nActual Output\\n\\n\\n\").bold = False\r\n",
        "p.add_run('').italic = True\r\n",
        "document.save('TCExecution_v0.1.docx')\r\n",
        "print('\\n - - - Execution Document is ready, Please download and insert evidences, Thanks! - - -')"
      ],
      "execution_count": 4,
      "outputs": [
        {
          "output_type": "stream",
          "text": [
            "\n",
            " - - - Execution Document is ready, Please download and insert evidences, Thanks! - - -\n"
          ],
          "name": "stdout"
        }
      ]
    }
  ]
}