{
  "nbformat": 4,
  "nbformat_minor": 0,
  "metadata": {
    "colab": {
      "name": "Python Word-Excel.ipynb",
      "provenance": [],
      "collapsed_sections": [],
      "mount_file_id": "1GS9cUDKcnG_cgE45rnL3Defh-GUc_GGA",
      "authorship_tag": "ABX9TyNmd+QFQuZIn98pScArfyY+",
      "include_colab_link": true
    },
    "kernelspec": {
      "name": "python3",
      "display_name": "Python 3"
    }
  },
  "cells": [
    {
      "cell_type": "markdown",
      "metadata": {
        "id": "view-in-github",
        "colab_type": "text"
      },
      "source": [
        "<a href=\"https://colab.research.google.com/github/GaikwadChinmay/python-word-excel/blob/main/Python_Word_Excel.ipynb\" target=\"_parent\"><img src=\"https://colab.research.google.com/assets/colab-badge.svg\" alt=\"Open In Colab\"/></a>"
      ]
    },
    {
      "cell_type": "code",
      "metadata": {
        "colab": {
          "base_uri": "https://localhost:8080/"
        },
        "id": "DfXLNWTVUQg-",
        "outputId": "2828a899-194e-4a8a-e8f8-84eed75b6991"
      },
      "source": [
        "!pip install python-docx\n",
        "!pip install openpyxl\n",
        "print('\\n\\n- - - Installation of depenecies completed - - -')"
      ],
      "execution_count": 1,
      "outputs": [
        {
          "output_type": "stream",
          "text": [
            "Collecting python-docx\n",
            "\u001b[?25l  Downloading https://files.pythonhosted.org/packages/e4/83/c66a1934ed5ed8ab1dbb9931f1779079f8bca0f6bbc5793c06c4b5e7d671/python-docx-0.8.10.tar.gz (5.5MB)\n",
            "\u001b[K     |████████████████████████████████| 5.5MB 7.0MB/s \n",
            "\u001b[?25hRequirement already satisfied: lxml>=2.3.2 in /usr/local/lib/python3.7/dist-packages (from python-docx) (4.2.6)\n",
            "Building wheels for collected packages: python-docx\n",
            "  Building wheel for python-docx (setup.py) ... \u001b[?25l\u001b[?25hdone\n",
            "  Created wheel for python-docx: filename=python_docx-0.8.10-cp37-none-any.whl size=184491 sha256=20674acf8747b5f39529fa8a6a123e1e638a2669dcc0f5102e6690123d05254c\n",
            "  Stored in directory: /root/.cache/pip/wheels/18/0b/a0/1dd62ff812c857c9e487f27d80d53d2b40531bec1acecfa47b\n",
            "Successfully built python-docx\n",
            "Installing collected packages: python-docx\n",
            "Successfully installed python-docx-0.8.10\n",
            "Requirement already satisfied: openpyxl in /usr/local/lib/python3.7/dist-packages (2.5.9)\n",
            "Requirement already satisfied: et-xmlfile in /usr/local/lib/python3.7/dist-packages (from openpyxl) (1.0.1)\n",
            "Requirement already satisfied: jdcal in /usr/local/lib/python3.7/dist-packages (from openpyxl) (1.4.1)\n",
            "\n",
            "\n",
            "- - - Installation of depenecies completed - - -\n"
          ],
          "name": "stdout"
        }
      ]
    },
    {
      "cell_type": "code",
      "metadata": {
        "id": "v-rnfmaLif_1",
        "colab": {
          "base_uri": "https://localhost:8080/"
        },
        "outputId": "39552fef-3dc6-458e-e07c-696329e869ea"
      },
      "source": [
        "from openpyxl import load_workbook\n",
        "\n",
        "filepath = str(input('Please Enter Filepath(Path of Testcases Document): '))\n",
        "\n",
        "workbook = load_workbook(filepath)\n",
        "\n",
        "print('- - - Test Cases Document imported - - -')\n",
        "sheet = workbook.active"
      ],
      "execution_count": 20,
      "outputs": [
        {
          "output_type": "stream",
          "text": [
            "Please Enter Filepath(Path of Testcases Document): /TCs.xlsx\n",
            "- - - Test Cases Document imported - - -\n"
          ],
          "name": "stdout"
        }
      ]
    },
    {
      "cell_type": "code",
      "metadata": {
        "id": "BGUsJ5I07pgD"
      },
      "source": [
        "from docx import Document"
      ],
      "execution_count": 21,
      "outputs": []
    },
    {
      "cell_type": "code",
      "metadata": {
        "id": "v861eqV97s0I",
        "colab": {
          "base_uri": "https://localhost:8080/"
        },
        "outputId": "bf88aaef-0a65-4e1e-b796-f0f7a6fd3e95"
      },
      "source": [
        "document = Document()\n",
        "document.add_heading('Test Case Execution Document', 0)\n",
        "p = document.add_paragraph(' ')\n",
        "for row in sheet.iter_rows(min_row=2, max_col=4):\n",
        "    p.add_run(row[0].value  + \"\\n\\nExpected Output: \" +row[3].value + \"  \" + \"\\n\\nActual Output: \\n\\n\\n\").bold = False\n",
        "p.add_run('').italic = True\n",
        "document.save('TCExecution_v0.1.docx')\n",
        "print('\\n - - - Execution Document is ready - - - \\n\\nPlease download and insert evidences\\n\\nThanks!')"
      ],
      "execution_count": 23,
      "outputs": [
        {
          "output_type": "stream",
          "text": [
            "\n",
            " - - - Execution Document is ready - - - \n",
            "\n",
            "Please download and insert evidences\n",
            "\n",
            "Thanks!\n"
          ],
          "name": "stdout"
        }
      ]
    }
  ]
}